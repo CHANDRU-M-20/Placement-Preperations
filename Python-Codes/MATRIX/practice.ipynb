{
 "cells": [
  {
   "cell_type": "markdown",
   "id": "4dfe8826",
   "metadata": {},
   "source": [
    "2. 📚 Library Management System\n",
    "Key Features:\n",
    "\n",
    "Add/remove books\n",
    "\n",
    "Borrow/return system\n",
    "\n",
    "Track availability\n",
    "\n",
    "OOP Concepts:\n",
    "\n",
    "Classes: Book, User, Library\n",
    "\n",
    "Use class-level storage for books\n",
    "\n",
    "Static method for date checks"
   ]
  },
  {
   "cell_type": "code",
   "execution_count": 31,
   "id": "966a3048",
   "metadata": {},
   "outputs": [],
   "source": [
    "from termcolor import colored\n",
    "class Library:\n",
    "    def __init__(self):\n",
    "        self.catalog = {}\n",
    "    \n",
    "    def store_books(self,title:str,author:str,isbn:str,available:bool):\n",
    "        if isbn not in self.catalog:\n",
    "            self.catalog[isbn] = {\n",
    "                    'title':title,\n",
    "                    'author':author,\n",
    "                    'isbn':isbn,\n",
    "                    'avaiable':True\n",
    "                }\n",
    "            print(colored(f\"Book was added to the catalog\",'green'))\n",
    "    \n",
    "    def add_books(self):\n",
    "        N= int(input(\"Enter the Number of Books: \",))\n",
    "        \n",
    "        while(N>0 and N<=3):\n",
    "            title = input(\"Enter the title: \")\n",
    "            author = input(\"Enter the author: \")\n",
    "            isbn = input(\"Enter the isbn: \")\n",
    "            self.store_books(title=title,author=author,isbn=isbn,available=True)         \n",
    "            \n",
    "            N+=1\n",
    "        \n",
    "                \n",
    "            \n",
    "            \n",
    "        \n",
    "    def __repr__(self):\n",
    "        return f\"Book()\"\n",
    "    \n",
    "        \n",
    "        \n",
    "        \n",
    "    "
   ]
  },
  {
   "cell_type": "code",
   "execution_count": 32,
   "id": "8167c895",
   "metadata": {},
   "outputs": [],
   "source": [
    "Obj = Library()"
   ]
  },
  {
   "cell_type": "code",
   "execution_count": 34,
   "id": "59d5c21a",
   "metadata": {},
   "outputs": [
    {
     "name": "stdout",
     "output_type": "stream",
     "text": [
      "\u001b[32mBook was added to the catalog\u001b[0m\n",
      "\u001b[32mBook was added to the catalog\u001b[0m\n",
      "\u001b[32mBook was added to the catalog\u001b[0m\n"
     ]
    }
   ],
   "source": [
    "Obj.add_books()"
   ]
  },
  {
   "cell_type": "code",
   "execution_count": 35,
   "id": "75e2891b",
   "metadata": {},
   "outputs": [
    {
     "data": {
      "text/plain": [
       "{'101': {'title': 'harry',\n",
       "  'author': 'potter',\n",
       "  'isbn': '101',\n",
       "  'avaiable': True},\n",
       " '420': {'title': 'john', 'author': 'wich', 'isbn': '420', 'avaiable': True},\n",
       " '7328947': {'title': 'hjgsdh',\n",
       "  'author': 'jsdfj',\n",
       "  'isbn': '7328947',\n",
       "  'avaiable': True}}"
      ]
     },
     "execution_count": 35,
     "metadata": {},
     "output_type": "execute_result"
    }
   ],
   "source": [
    "Obj.catalog"
   ]
  },
  {
   "cell_type": "code",
   "execution_count": 2,
   "id": "2121f6ee",
   "metadata": {},
   "outputs": [],
   "source": [
    "class User:\n",
    "    def __init__(self):\n",
    "        pass"
   ]
  },
  {
   "cell_type": "code",
   "execution_count": 3,
   "id": "e4333ba2",
   "metadata": {},
   "outputs": [],
   "source": [
    "class Library:\n",
    "    def __init__(self):\n",
    "        pass\n",
    "    "
   ]
  },
  {
   "cell_type": "code",
   "execution_count": null,
   "id": "e3a1ef8e",
   "metadata": {},
   "outputs": [],
   "source": []
  }
 ],
 "metadata": {
  "kernelspec": {
   "display_name": "venv",
   "language": "python",
   "name": "python3"
  },
  "language_info": {
   "codemirror_mode": {
    "name": "ipython",
    "version": 3
   },
   "file_extension": ".py",
   "mimetype": "text/x-python",
   "name": "python",
   "nbconvert_exporter": "python",
   "pygments_lexer": "ipython3",
   "version": "3.13.2"
  }
 },
 "nbformat": 4,
 "nbformat_minor": 5
}
