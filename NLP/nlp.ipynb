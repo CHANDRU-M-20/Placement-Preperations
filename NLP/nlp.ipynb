{
 "cells": [
  {
   "cell_type": "markdown",
   "id": "05f8311c",
   "metadata": {},
   "source": [
    "# NLP"
   ]
  },
  {
   "cell_type": "markdown",
   "id": "dfc1ddc3",
   "metadata": {},
   "source": [
    "\n",
    "---\n",
    "\n",
    "## 🔄 NLP Pipeline Overview\n",
    "\n",
    "1. **Text Input**\n",
    "2. **Text Cleaning / Preprocessing**\n",
    "3. **Tokenization**\n",
    "4. **Stopword Removal**\n",
    "5. **Stemming / Lemmatization**\n",
    "6. **Part-of-Speech Tagging**\n",
    "7. **Named Entity Recognition**\n",
    "8. **Vectorization** (for ML)\n",
    "9. **Modeling / Analysis**\n",
    "\n",
    "---\n",
    "\n",
    "## ✅ Step-by-Step Pipeline with Code\n",
    "\n",
    "We’ll use **NLTK** for stemming and **spaCy** for lemmatization and advanced tasks.\n",
    "\n",
    "### 🔹 1. Text Input\n",
    "\n",
    "```python\n",
    "text = \"John's running in the marathon was better than his previous attempts. He studies NLP techniques daily.\"\n",
    "```\n",
    "\n",
    "---\n",
    "\n",
    "### 🔹 2. Text Cleaning\n",
    "\n",
    "```python\n",
    "import re\n",
    "\n",
    "# Remove punctuation and lowercase\n",
    "clean_text = re.sub(r'[^\\w\\s]', '', text.lower())\n",
    "print(clean_text)\n",
    "```\n",
    "\n",
    "**Output**:\n",
    "`johns running in the marathon was better than his previous attempts he studies nlp techniques daily`\n",
    "\n",
    "---\n",
    "\n",
    "### 🔹 3. Tokenization\n",
    "\n",
    "```python\n",
    "from nltk.tokenize import word_tokenize\n",
    "import nltk\n",
    "nltk.download('punkt')\n",
    "\n",
    "tokens = word_tokenize(clean_text)\n",
    "print(tokens)\n",
    "```\n",
    "\n",
    "**Output**:\n",
    "`['johns', 'running', 'in', 'the', 'marathon', 'was', 'better', 'than', 'his', 'previous', 'attempts', 'he', 'studies', 'nlp', 'techniques', 'daily']`\n",
    "\n",
    "---\n",
    "\n",
    "### 🔹 4. Stopword Removal\n",
    "\n",
    "```python\n",
    "from nltk.corpus import stopwords\n",
    "nltk.download('stopwords')\n",
    "\n",
    "stop_words = set(stopwords.words('english'))\n",
    "filtered_tokens = [word for word in tokens if word not in stop_words]\n",
    "print(filtered_tokens)\n",
    "```\n",
    "\n",
    "**Output**:\n",
    "`['johns', 'running', 'marathon', 'better', 'previous', 'attempts', 'studies', 'nlp', 'techniques', 'daily']`\n",
    "\n",
    "---\n",
    "\n",
    "### 🔹 5. Stemming (using NLTK)\n",
    "\n",
    "```python\n",
    "from nltk.stem import PorterStemmer\n",
    "\n",
    "stemmer = PorterStemmer()\n",
    "stemmed = [stemmer.stem(word) for word in filtered_tokens]\n",
    "print(stemmed)\n",
    "```\n",
    "\n",
    "**Output**:\n",
    "`['john', 'run', 'marathon', 'better', 'previou', 'attempt', 'studi', 'nlp', 'techniqu', 'daili']`\n",
    "\n",
    "---\n",
    "\n",
    "### 🔹 6. Lemmatization (using spaCy)\n",
    "\n",
    "```python\n",
    "import spacy\n",
    "nlp = spacy.load(\"en_core_web_sm\")\n",
    "\n",
    "doc = nlp(\" \".join(filtered_tokens))\n",
    "lemmatized = [token.lemma_ for token in doc]\n",
    "print(lemmatized)\n",
    "```\n",
    "\n",
    "**Output**:\n",
    "`['john', 'run', 'marathon', 'well', 'previous', 'attempt', 'study', 'NLP', 'technique', 'daily']`\n",
    "\n",
    "---\n",
    "\n",
    "### 🔹 7. POS Tagging\n",
    "\n",
    "```python\n",
    "for token in doc:\n",
    "    print((token.text, token.pos_))\n",
    "```\n",
    "\n",
    "**Example Output**:\n",
    "\n",
    "```\n",
    "('john', 'PROPN')\n",
    "('run', 'VERB')\n",
    "('marathon', 'NOUN')\n",
    "('well', 'ADV')\n",
    "...\n",
    "```\n",
    "\n",
    "---\n",
    "\n",
    "### 🔹 8. Named Entity Recognition (NER)\n",
    "\n",
    "```python\n",
    "doc = nlp(text)  # use original text\n",
    "for ent in doc.ents:\n",
    "    print((ent.text, ent.label_))\n",
    "```\n",
    "\n",
    "**Output**:\n",
    "\n",
    "```\n",
    "('John', 'PERSON')\n",
    "```\n",
    "\n",
    "---\n",
    "\n",
    "### 🔹 9. Vectorization (Optional for ML)\n",
    "\n",
    "```python\n",
    "from sklearn.feature_extraction.text import CountVectorizer\n",
    "\n",
    "corpus = [\"John is running a marathon.\", \"He studies NLP.\"]\n",
    "vectorizer = CountVectorizer()\n",
    "X = vectorizer.fit_transform(corpus)\n",
    "\n",
    "print(vectorizer.get_feature_names_out())\n",
    "print(X.toarray())\n",
    "```\n",
    "\n",
    "---\n",
    "\n",
    "## 📌 Summary\n",
    "\n",
    "| Stage            | Tool Used    | Output                             |\n",
    "| ---------------- | ------------ | ---------------------------------- |\n",
    "| Cleaning         | Regex        | Clean, lowercase text              |\n",
    "| Tokenization     | NLTK / spaCy | List of words                      |\n",
    "| Stopword Removal | NLTK         | Filtered tokens                    |\n",
    "| Stemming         | NLTK         | Root-like forms (may be non-words) |\n",
    "| Lemmatization    | spaCy        | Real base forms (dictionary words) |\n",
    "| POS Tagging      | spaCy        | Tags like NOUN, VERB, etc.         |\n",
    "| NER              | spaCy        | Extract entities like PERSON, DATE |\n",
    "| Vectorization    | scikit-learn | Numerical matrix for modeling      |\n",
    "\n",
    "---\n",
    "\n",
    "Let me know if you'd like the same pipeline with `TextBlob`, `transformers`, or deep learning!\n"
   ]
  },
  {
   "cell_type": "markdown",
   "id": "8d4aba27",
   "metadata": {},
   "source": [
    "Sure! Let’s break down **stemming** in **simple, everyday terms**, with clear examples.\n",
    "\n",
    "---\n",
    "\n",
    "## 🌱 What is Stemming?\n",
    "\n",
    "**Stemming** is like chopping off the ends of words to get to the **root form**, even if the result isn’t a real word.\n",
    "\n",
    "### 🔍 Think of it like this:\n",
    "\n",
    "Imagine you're trying to group similar words together. Stemming helps by removing prefixes or suffixes like:\n",
    "\n",
    "* `-ing`, `-ed`, `-ly`, `-es`, `-s`, etc.\n",
    "\n",
    "---\n",
    "\n",
    "## 🛠 How it Works (In Simple Terms)\n",
    "\n",
    "You don't care about **perfect grammar** — you just want to match **similar words**.\n",
    "\n",
    "For example:\n",
    "\n",
    "* **“play”, “playing”, “played”, “plays”** → all become → **“play”**\n",
    "* **“studies”, “studied”, “studying”** → → **“studi”** (note: not a real word)\n",
    "\n",
    "### ✅ Why it's useful:\n",
    "\n",
    "It helps search engines or NLP tools recognize that **“playing” and “played” are about the same concept**.\n",
    "\n",
    "---\n",
    "\n",
    "## 🔁 Real-Life Example\n",
    "\n",
    "### Sentence:\n",
    "\n",
    "> \"She was playing and studied hard every night.\"\n",
    "\n",
    "### After Stemming:\n",
    "\n",
    "> \"She wa **play** and **studi** hard everi night.\"\n",
    "\n",
    "You can see:\n",
    "\n",
    "* \"playing\" → \"play\"\n",
    "* \"studied\" → \"studi\"\n",
    "* \"every\" → \"everi\"\n",
    "\n",
    "Some of the stemmed words (like **studi** and **everi**) aren’t real English words, but that’s okay — the goal is to match **similar** words quickly.\n",
    "\n",
    "---\n",
    "\n",
    "## ⚙ Common Stemming Algorithms:\n",
    "\n",
    "* **Porter Stemmer** (most common, fast, simple)\n",
    "* **Snowball Stemmer** (improved version of Porter)\n",
    "* **Lancaster Stemmer** (more aggressive)\n",
    "\n",
    "---\n",
    "\n",
    "## 🔑 Summary in Layman's Terms:\n",
    "\n",
    "| Feature         | Description                                          |\n",
    "| --------------- | ---------------------------------------------------- |\n",
    "| 📌 What it does | Cuts words to a basic form (may not be a real word)  |\n",
    "| 🧠 Why it helps | Groups similar words together for analysis or search |\n",
    "| ⚠️ Downsides    | Can chop too much or give meaningless words          |\n",
    "| 📚 Example      | “Studies” → “Studi”, “Running” → “Run”               |\n",
    "\n",
    "---\n",
    "\n",
    "Let me know if you want to compare this with **lemmatization** side by side again — or if you'd like a demo with code!\n"
   ]
  },
  {
   "cell_type": "code",
   "execution_count": 2,
   "id": "22f320bd",
   "metadata": {},
   "outputs": [],
   "source": [
    "corpus = \"\"\"\n",
    "The Great question! spaCy and NLTK are two of the most widely used Natural Language Processing (NLP) libraries in Python, but they have different focuses and strengths.\n",
    "\"\"\""
   ]
  },
  {
   "cell_type": "code",
   "execution_count": 5,
   "id": "514c0975",
   "metadata": {},
   "outputs": [
    {
     "name": "stderr",
     "output_type": "stream",
     "text": [
      "[nltk_data] Downloading package punkt_tab to\n",
      "[nltk_data]     C:\\Users\\chand\\AppData\\Roaming\\nltk_data...\n",
      "[nltk_data]   Unzipping tokenizers\\punkt_tab.zip.\n"
     ]
    },
    {
     "data": {
      "text/plain": [
       "True"
      ]
     },
     "execution_count": 5,
     "metadata": {},
     "output_type": "execute_result"
    }
   ],
   "source": [
    "from nltk.tokenize import sent_tokenize\n",
    "import nltk\n",
    "nltk.download('punkt_tab')"
   ]
  },
  {
   "cell_type": "code",
   "execution_count": 6,
   "id": "cdf5dc32",
   "metadata": {},
   "outputs": [
    {
     "data": {
      "text/plain": [
       "['\\nThe Great question!',\n",
       " 'spaCy and NLTK are two of the most widely used Natural Language Processing (NLP) libraries in Python, but they have different focuses and strengths.']"
      ]
     },
     "execution_count": 6,
     "metadata": {},
     "output_type": "execute_result"
    }
   ],
   "source": [
    "sent_tokenize(corpus)"
   ]
  },
  {
   "cell_type": "markdown",
   "id": "bd4e0d62",
   "metadata": {},
   "source": [
    "### Stemming"
   ]
  },
  {
   "cell_type": "code",
   "execution_count": 7,
   "id": "10ec1369",
   "metadata": {},
   "outputs": [],
   "source": [
    "from nltk.stem import PorterStemmer"
   ]
  },
  {
   "cell_type": "code",
   "execution_count": 8,
   "id": "85f75e38",
   "metadata": {},
   "outputs": [],
   "source": [
    "stemming = PorterStemmer()"
   ]
  },
  {
   "cell_type": "code",
   "execution_count": 9,
   "id": "3ca4bcd6",
   "metadata": {},
   "outputs": [],
   "source": [
    "words = [\"Eating\",\"Eaten\",\"Eates\",\"Programming\",\"Programs\",\"Programmer\"]"
   ]
  },
  {
   "cell_type": "code",
   "execution_count": 11,
   "id": "11383e99",
   "metadata": {},
   "outputs": [
    {
     "name": "stdout",
     "output_type": "stream",
     "text": [
      "Eating ---> eat\n",
      "Eaten ---> eaten\n",
      "Eates ---> eat\n",
      "Programming ---> program\n",
      "Programs ---> program\n",
      "Programmer ---> programm\n"
     ]
    }
   ],
   "source": [
    "for word in words:\n",
    "    print(f\"{word} ---> {stemming.stem(word)}\")"
   ]
  },
  {
   "cell_type": "markdown",
   "id": "da3942d4",
   "metadata": {},
   "source": [
    "### SNOBALL STEMMA"
   ]
  },
  {
   "cell_type": "code",
   "execution_count": 12,
   "id": "cbe06f18",
   "metadata": {},
   "outputs": [],
   "source": [
    "from nltk.stem import SnowballStemmer"
   ]
  },
  {
   "cell_type": "code",
   "execution_count": 14,
   "id": "67d86a62",
   "metadata": {},
   "outputs": [],
   "source": [
    "ball_stem = SnowballStemmer(\n",
    "    language='english'\n",
    ")"
   ]
  },
  {
   "cell_type": "code",
   "execution_count": 15,
   "id": "85f02573",
   "metadata": {},
   "outputs": [
    {
     "name": "stdout",
     "output_type": "stream",
     "text": [
      "Eating-->eat\n",
      "Eaten-->eaten\n",
      "Eates-->eat\n",
      "Programming-->program\n",
      "Programs-->program\n",
      "Programmer-->programm\n"
     ]
    }
   ],
   "source": [
    "for word in words:\n",
    "    print(f\"{word}-->{ball_stem.stem(word)}\")"
   ]
  },
  {
   "cell_type": "code",
   "execution_count": 16,
   "id": "d394bb07",
   "metadata": {},
   "outputs": [
    {
     "data": {
      "text/plain": [
       "'fairli'"
      ]
     },
     "execution_count": 16,
     "metadata": {},
     "output_type": "execute_result"
    }
   ],
   "source": [
    "stemming.stem(\"Fairly\")"
   ]
  },
  {
   "cell_type": "code",
   "execution_count": 17,
   "id": "2c7fb06c",
   "metadata": {},
   "outputs": [
    {
     "data": {
      "text/plain": [
       "'fair'"
      ]
     },
     "execution_count": 17,
     "metadata": {},
     "output_type": "execute_result"
    }
   ],
   "source": [
    "ball_stem.stem(\"Fairly\")"
   ]
  },
  {
   "cell_type": "code",
   "execution_count": null,
   "id": "913e9028",
   "metadata": {},
   "outputs": [],
   "source": []
  }
 ],
 "metadata": {
  "kernelspec": {
   "display_name": "venv",
   "language": "python",
   "name": "python3"
  },
  "language_info": {
   "codemirror_mode": {
    "name": "ipython",
    "version": 3
   },
   "file_extension": ".py",
   "mimetype": "text/x-python",
   "name": "python",
   "nbconvert_exporter": "python",
   "pygments_lexer": "ipython3",
   "version": "3.13.2"
  }
 },
 "nbformat": 4,
 "nbformat_minor": 5
}
